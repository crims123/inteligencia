{
 "cells": [
  {
   "cell_type": "markdown",
   "metadata": {},
   "source": [
    "# 03 OnlineQuiz - Algoritmos Genéticos - Simulated Annealing\n"
   ]
  },
  {
   "cell_type": "markdown",
   "metadata": {},
   "source": [
    "# Ejercicio 1:\n",
    "\n",
    "### <font style=\"color:red\">1.A) Realiza una función que produzca una población inicial de soluciones de un cierto problema para resolverlo por medio de algoritmos genéticos o simulated annealing de forma que, cada solución:\n",
    "\n",
    "- Está representada por un vector de 10 elements con valores entre 0 y 99, ambos incluidos.\n",
    "- Cada vector tiene al menos dos números iguales\n",
    "\n",
    "Salida esperada (vectores aleatorios):\n",
    "\n",
    "    [99 99 11 71 55 54 71  1 57 23] valores repetidos 2\n",
    "    [21 32 96 83 34 92 23 43 70 21] valores repetidos 1\n",
    "    [37  0 73 15 15 96  8  1 84 36] valores repetidos 1\n",
    "    [44 27 27 21  6 30 17 90  9 31] valores repetidos 1\n",
    "    [85 51 19 43 16 93 93 68 19 15] valores repetidos 2\n",
    "    [82 59 97 21 94 28  6 95 95 83] valores repetidos 1\n",
    "    [26  9  9 13 59 30 55 48 67  0] valores repetidos 1\n",
    "    [83 27 19 19 95 90 41 81 46 89] valores repetidos 1\n",
    "    [97 29 79 38 57 71 61 65 78 78] valores repetidos 1\n",
    "    [70  6 21 15 73 15 83 11 28 28] valores repetidos 2\n",
    "    [28 59 57  8 27 84 13 13 89 54] valores repetidos 1\n",
    "    [84 82 91 95 84 16 67 67 88 67] valores repetidos 3\n",
    "    [62 54 33 33  3 63 56 80 50 57] valores repetidos 1\n",
    "    [91  3 37 37 89 37 40 14 53 33] valores repetidos 2\n",
    "    [33 83 73  1 71 78  8  7 86 86] valores repetidos 1"
   ]
  },
  {
   "cell_type": "code",
   "execution_count": 1,
   "metadata": {
    "collapsed": false
   },
   "outputs": [],
   "source": [
    "import numpy as np\n",
    "\n",
    "def init_population(n):\n",
    "    r = np.random.randint(100, size=(n,10))\n",
    "    ## TU CODIGO AQUI\n",
    "    for i in range(n):\n",
    "        i1=np.random.randint(10)\n",
    "        i2=i1+1 if i1<9 else 0\n",
    "        j1=np.random.randint (10)\n",
    "        j2=j1+1 if j1<9 else 0\n",
    "        r[i][i1]=r[i][i2]\n",
    "        r[i][j1]=r[i][j2]\n",
    "\n",
    "    \n",
    "    \n",
    "    return r"
   ]
  },
  {
   "cell_type": "markdown",
   "metadata": {},
   "source": [
    "### 1.B) inspecciona el resultado de tu código"
   ]
  },
  {
   "cell_type": "code",
   "execution_count": 2,
   "metadata": {
    "collapsed": false
   },
   "outputs": [
    {
     "name": "stdout",
     "output_type": "stream",
     "text": [
      "[10 44 29 11 51  4  4 34 34 37] valores repetidos 2\n",
      "[67 67 59 59 58 19 10 78 75 50] valores repetidos 2\n",
      "[ 2 99 49 12 12 12 27 55 82  5] valores repetidos 2\n",
      "[13 13  6 53 78 40 38 41 67 13] valores repetidos 2\n",
      "[ 5  5 66 65 33 46 46  6 73 38] valores repetidos 2\n",
      "[31 79 46 46 80 80 50 78 66 71] valores repetidos 2\n",
      "[68 46 90 29 73  5  5 10 81 68] valores repetidos 2\n",
      "[82 82 57 35 38 64 40 70 79 82] valores repetidos 2\n",
      "[95 53 53 93 15 40 18  2 53 95] valores repetidos 3\n",
      "[20 40 31 22 22 24 60 58 45 20] valores repetidos 2\n",
      "[60  1 61  9 63 63 34 32 72 89] valores repetidos 1\n",
      "[80 37 44 51 10 10 45 97 73 14] valores repetidos 1\n",
      "[79 79 88 11 24 30 36 32 61 51] valores repetidos 1\n",
      "[25 18 18 52 24 90 90 66 74 14] valores repetidos 2\n",
      "[74 73 89 20 16 16 98 26 26 52] valores repetidos 2\n"
     ]
    }
   ],
   "source": [
    "r = init_population(15)\n",
    "for i in range(len(r)):\n",
    "    print r[i], \"valores repetidos\", 10-len(np.unique(r[i]))"
   ]
  },
  {
   "cell_type": "markdown",
   "metadata": {},
   "source": [
    "### 1.C) verifica que el ejercicio está correcto\n"
   ]
  },
  {
   "cell_type": "code",
   "execution_count": 3,
   "metadata": {
    "collapsed": false
   },
   "outputs": [
    {
     "name": "stdout",
     "output_type": "stream",
     "text": [
      "Todos los individuos tienen al menos 2 números iguales :: True\n"
     ]
    }
   ],
   "source": [
    "r = init_population(200)\n",
    "print \"Todos los individuos tienen al menos 2 números iguales ::\", np.all([len(np.unique(r[i]))<=9 for i in xrange(len(r))])"
   ]
  },
  {
   "cell_type": "markdown",
   "metadata": {},
   "source": [
    "# Ejercicio 2:\n",
    "\n",
    "### <font style=\"color:red\">1.A) Realiza una función que produzca una mutación en un vector de enteros:\n",
    "\n",
    "Tenemos un vector $x$ con 10 elementos que son números enteros entre 0 y 9. Es decir $x =  [x_0, x_1,...x_i, ... x_9]$ con $x_i \\in [0,..,9]$\n",
    "\n",
    "implementa una función que mute un vector con una probabilidad $p$ dada. Por ejemplo, si $p=0.7$ el 30% de las veces que se llama la función devuelve el mismo $x$ sin modificarlo pero el 70% devuelve el vector original mutado.\n",
    "\n",
    "para hacer una mutación:\n",
    "\n",
    "1. Selecciona una posición aleatoria en el vector\n",
    "2. Cambia el valor del elemento en la posición seleccionada\n",
    "\n",
    "Salida esperada (es aleatoria, tu salida no será igual):\n",
    "\n",
    "    x\n",
    "    [0 8 7 6 5 8 6 3 7 3]\n",
    "    mutations\n",
    "    [0 8 7 6 5 8 6 3 7 3]\n",
    "    [0 8 7 6 5 8 6 3 7 3]\n",
    "    [0 8 7 6 5 8 6 6 7 3]\n",
    "    [0 8 7 6 5 8 6 3 7 3]\n",
    "    [0 8 7 6 5 8 6 3 7 3]\n",
    "    [0 8 7 6 5 1 6 3 7 3]\n",
    "    [0 8 7 6 5 8 6 3 7 3]\n",
    "    [0 8 7 6 5 8 6 3 7 3]\n",
    "    [0 8 7 6 5 8 6 3 7 3]\n",
    "    [9 8 7 6 5 8 6 3 7 3]\n"
   ]
  },
  {
   "cell_type": "code",
   "execution_count": 4,
   "metadata": {
    "collapsed": false
   },
   "outputs": [],
   "source": [
    "import numpy as np\n",
    "\n",
    "def simple_mutate(x, prob):\n",
    "    \n",
    "    r = np.copy(x)\n",
    "    ## TU CODIGO AQUI\n",
    "    if(np.random.random()<prob):\n",
    "        i=np.random.randint(len(x))\n",
    "        r[i]=r[i]+1 if((r[i]+1)<10) else r[i]-1\n",
    "           \n",
    "    return r\n",
    "    "
   ]
  },
  {
   "cell_type": "markdown",
   "metadata": {},
   "source": [
    "### 1.B) inspecciona el resultado de tu código"
   ]
  },
  {
   "cell_type": "code",
   "execution_count": 5,
   "metadata": {
    "collapsed": false
   },
   "outputs": [
    {
     "name": "stdout",
     "output_type": "stream",
     "text": [
      "x\n",
      "[7 0 0 8 2 3 1 1 1 6]\n",
      "mutations\n",
      "[7 0 0 8 2 3 2 1 1 6]\n",
      "[7 0 0 8 2 3 1 1 1 6]\n",
      "[7 0 1 8 2 3 1 1 1 6]\n",
      "[7 0 0 8 2 4 1 1 1 6]\n",
      "[7 0 0 8 2 3 1 1 2 6]\n",
      "[7 0 0 8 2 3 1 1 1 6]\n",
      "[7 0 0 8 2 3 1 1 1 7]\n",
      "[7 0 0 8 2 3 1 1 1 6]\n",
      "[7 0 0 8 2 3 1 1 1 6]\n",
      "[7 0 0 8 2 4 1 1 1 6]\n"
     ]
    }
   ],
   "source": [
    "x = np.random.randint(10, size=10)\n",
    "print \"x\\n\",x\n",
    "print \"mutations\"\n",
    "for i in range(10):\n",
    "    print simple_mutate(x, 0.5)"
   ]
  },
  {
   "cell_type": "markdown",
   "metadata": {},
   "source": [
    "### 1.C) verifica que el ejercicio está correcto"
   ]
  },
  {
   "cell_type": "code",
   "execution_count": 6,
   "metadata": {
    "collapsed": false
   },
   "outputs": [
    {
     "name": "stdout",
     "output_type": "stream",
     "text": [
      "Testing mutation probability 0.5 True\n",
      "Testing mutation probability 0.1 True\n",
      "Testing solutions valid          True\n",
      "Testing solutions valid          True\n"
     ]
    }
   ],
   "source": [
    "x = np.random.randint(10, size=100)\n",
    "N=1000\n",
    "pct_muts_50 = sum([sum(simple_mutate(x, 0.5) != x) for i in xrange(N)])*1./N\n",
    "pct_muts_10 = sum([sum(simple_mutate(x, 0.1) != x) for i in xrange(N)])*1./N\n",
    "\n",
    "print \"Testing mutation probability 0.5\", np.allclose(pct_muts_50, 0.5, atol=0.1)\n",
    "print \"Testing mutation probability 0.1\", np.allclose(pct_muts_10, 0.1, atol=0.1)\n",
    "print \"Testing solutions valid         \", np.all([np.all(simple_mutate(x, 0.5) < 10) for i in xrange(N)])\n",
    "print \"Testing solutions valid         \", np.all([np.all(simple_mutate(x, 0.5) >= 0) for i in xrange(N)])"
   ]
  },
  {
   "cell_type": "markdown",
   "metadata": {
    "collapsed": true
   },
   "source": [
    "# Ejercicio 3:\n",
    "\n",
    "### <font style=\"color:red\">1.A) Realiza una función que dados dos vectores $v_1$ y $v_2$, produzca un nuevo vector $r$ de forma que:\n",
    "\n",
    "- selecciona una posición aleatoria de $r$\n",
    "- `r[pos:] = v1[pos:]`, donde $pos$ es la posición seleccionada en el punto anterior\n",
    "- `r[:pos] = v2[:pos]`\n",
    "\n",
    "Salida esperada (vectores aleatorios):\n",
    "\n",
    "\n",
    "    v1 [85 55  9 24 71 80 94 26 36 24]\n",
    "    v2 [90  8 63 74 71 55 44 84 61 27]\n",
    "    r  [ 0 55  9 24 71 80 94 26 36 24]\n"
   ]
  },
  {
   "cell_type": "code",
   "execution_count": 7,
   "metadata": {
    "collapsed": true
   },
   "outputs": [],
   "source": [
    "def crossover(v1, v2):\n",
    "    \n",
    "    r = np.zeros(len(v1)).astype(int)\n",
    "    ## TU CODIGO AQUI\n",
    "    pos=np.random.randint(len(r))\n",
    "    r[pos:] = v1[pos:]\n",
    "    r[:pos] = v2[:pos]\n",
    "    return r\n",
    "    "
   ]
  },
  {
   "cell_type": "markdown",
   "metadata": {},
   "source": [
    "### 1.B) inspecciona el resultado de tu código"
   ]
  },
  {
   "cell_type": "code",
   "execution_count": 8,
   "metadata": {
    "collapsed": false
   },
   "outputs": [
    {
     "name": "stdout",
     "output_type": "stream",
     "text": [
      "v1 [60 81 87 50 81 52 88 35 41 25]\n",
      "v2 [18 45 85 20 28 65  8 57 26 26]\n",
      "r  [18 45 85 20 28 65  8 57 26 25]\n"
     ]
    }
   ],
   "source": [
    "v1 = np.random.randint(100, size=10)\n",
    "v2 = np.random.randint(100, size=10)\n",
    "r = crossover(v1,v2)\n",
    "print \"v1\", v1\n",
    "print \"v2\", v2\n",
    "print \"r \", r"
   ]
  },
  {
   "cell_type": "markdown",
   "metadata": {},
   "source": [
    "### 1.C) verifica que el ejercicio está correcto"
   ]
  },
  {
   "cell_type": "code",
   "execution_count": 9,
   "metadata": {
    "collapsed": false
   },
   "outputs": [
    {
     "name": "stdout",
     "output_type": "stream",
     "text": [
      "cross over correctos ::  True\n"
     ]
    }
   ],
   "source": [
    "c = []\n",
    "for i in range(100):\n",
    "    v1 = np.random.randint(100, size=10)\n",
    "    v2 = np.random.randint(100, size=10)\n",
    "    r = crossover(v1,v2)\n",
    "    tf = np.all(np.unique(list(np.where(v2==r)[0]) + list(np.where(v1==r)[0]))==np.arange(10))\n",
    "    if not tf:\n",
    "        print \"--\"\n",
    "        print \"v1\", v1\n",
    "        print \"v2\", v2\n",
    "        print \"r \", r\n",
    "        print \"l \", np.unique(list(np.where(v2==r)[0]) + list(np.where(v1==r)[0])), tf\n",
    "    c.append(tf)\n",
    "    \n",
    "print \"cross over correctos :: \", np.all(c)"
   ]
  },
  {
   "cell_type": "markdown",
   "metadata": {},
   "source": [
    "# Ejercicio 4:\n",
    "\n",
    "### <font style=\"color:red\">1.A) Realiza una función que dado un vector $x$, con 10 elementos enteros, entre 0 y 99 ambos incluidos, genere un nuevo vector $r$ de forma que la distancia euclideana entre ambos sea 2:\n",
    "\n",
    "- selecciona una posición aleatoria de $r$\n",
    "- `r[pos:] = v1[pos:]`, donde $pos$ es la posición seleccionada en el punto anterior\n",
    "- `r[:pos] = v2[:pos]`\n",
    "\n",
    "Salida esperada (vectores aleatorios):\n",
    "\n",
    "\n",
    "    v1 [85 55  9 24 71 80 94 26 36 24]\n",
    "    v2 [90  8 63 74 71 55 44 84 61 27]\n",
    "    r  [ 0 55  9 24 71 80 94 26 36 24]\n"
   ]
  },
  {
   "cell_type": "code",
   "execution_count": 10,
   "metadata": {
    "collapsed": false
   },
   "outputs": [],
   "source": [
    "import numpy as np\n",
    "\n",
    "def vecino(x):\n",
    "    \n",
    "    r = np.copy(x)\n",
    "    pos=np.random.randint(len(r))\n",
    "    r[pos]+=1\n",
    "    \n",
    "    return r"
   ]
  },
  {
   "cell_type": "markdown",
   "metadata": {},
   "source": [
    "### 1.B) inspecciona el resultado de tu código"
   ]
  },
  {
   "cell_type": "code",
   "execution_count": 11,
   "metadata": {
    "collapsed": false
   },
   "outputs": [
    {
     "name": "stdout",
     "output_type": "stream",
     "text": [
      "x [8 4 9 7 5 3 3 4 5 1]\n",
      "r [9 4 9 7 5 3 3 4 5 1]\n",
      "distnacia euclideana 1.0\n"
     ]
    }
   ],
   "source": [
    "x = np.random.randint(10, size=10)\n",
    "r = vecino(x)\n",
    "print \"x\", x\n",
    "print \"r\", r\n",
    "print \"distnacia euclideana\", np.sqrt(np.sum((x-r)**2))"
   ]
  },
  {
   "cell_type": "markdown",
   "metadata": {},
   "source": [
    "### 1.C) verifica que el ejercicio está correcto"
   ]
  },
  {
   "cell_type": "code",
   "execution_count": 12,
   "metadata": {
    "collapsed": false
   },
   "outputs": [
    {
     "name": "stdout",
     "output_type": "stream",
     "text": [
      "todas las distancias son 2 :: False\n"
     ]
    }
   ],
   "source": [
    "distancias = []\n",
    "for i in xrange(100):\n",
    "    x = np.random.randint(10, size=10)\n",
    "    r = vecino(x)\n",
    "    distancias.append(np.sqrt(np.sum((x-r)**2)))\n",
    "    \n",
    "print \"todas las distancias son 2 ::\", np.allclose(distancias, 2)"
   ]
  },
  {
   "cell_type": "code",
   "execution_count": null,
   "metadata": {
    "collapsed": true
   },
   "outputs": [],
   "source": []
  }
 ],
 "metadata": {
  "kernelspec": {
   "display_name": "Python 2",
   "language": "python",
   "name": "python2"
  },
  "language_info": {
   "codemirror_mode": {
    "name": "ipython",
    "version": 2
   },
   "file_extension": ".py",
   "mimetype": "text/x-python",
   "name": "python",
   "nbconvert_exporter": "python",
   "pygments_lexer": "ipython2",
   "version": "2.7.10"
  }
 },
 "nbformat": 4,
 "nbformat_minor": 0
}
