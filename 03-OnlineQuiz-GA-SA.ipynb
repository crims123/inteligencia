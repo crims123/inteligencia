{
 "cells": [
  {
   "cell_type": "markdown",
   "metadata": {},
   "source": [
    "# 03 OnlineQuiz - Algoritmos Genéticos - Simulated Annealing\n"
   ]
  },
  {
   "cell_type": "markdown",
   "metadata": {},
   "source": [
    "# Ejercicio 1:\n",
    "\n",
    "### <font style=\"color:red\">1.A) Realiza una función que produzca una población inicial de soluciones de un cierto problema para resolverlo por medio de algoritmos genéticos o simulated annealing de forma que, cada solución:\n",
    "\n",
    "- Está representada por un vector de 10 elements con valores entre 0 y 99, ambos incluidos.\n",
    "- Cada vector tiene al menos dos números iguales\n",
    "\n",
    "Salida esperada (vectores aleatorios):\n",
    "\n",
    "    [99 99 11 71 55 54 71  1 57 23] valores repetidos 2\n",
    "    [21 32 96 83 34 92 23 43 70 21] valores repetidos 1\n",
    "    [37  0 73 15 15 96  8  1 84 36] valores repetidos 1\n",
    "    [44 27 27 21  6 30 17 90  9 31] valores repetidos 1\n",
    "    [85 51 19 43 16 93 93 68 19 15] valores repetidos 2\n",
    "    [82 59 97 21 94 28  6 95 95 83] valores repetidos 1\n",
    "    [26  9  9 13 59 30 55 48 67  0] valores repetidos 1\n",
    "    [83 27 19 19 95 90 41 81 46 89] valores repetidos 1\n",
    "    [97 29 79 38 57 71 61 65 78 78] valores repetidos 1\n",
    "    [70  6 21 15 73 15 83 11 28 28] valores repetidos 2\n",
    "    [28 59 57  8 27 84 13 13 89 54] valores repetidos 1\n",
    "    [84 82 91 95 84 16 67 67 88 67] valores repetidos 3\n",
    "    [62 54 33 33  3 63 56 80 50 57] valores repetidos 1\n",
    "    [91  3 37 37 89 37 40 14 53 33] valores repetidos 2\n",
    "    [33 83 73  1 71 78  8  7 86 86] valores repetidos 1"
   ]
  },
  {
   "cell_type": "code",
   "execution_count": 1,
   "metadata": {
    "collapsed": false
   },
   "outputs": [],
   "source": [
    "import numpy as np\n",
    "\n",
    "def init_population(n):\n",
    "    r = np.random.randint(100, size=(n,10))\n",
    "    ## TU CODIGO AQUI\n",
    "    for i in range (n):\n",
    "        t = np.random.randint(11)\n",
    "        r[i,t-1] = r[i,t-2] \n",
    "        \n",
    "    return r"
   ]
  },
  {
   "cell_type": "markdown",
   "metadata": {},
   "source": [
    "### 1.B) inspecciona el resultado de tu código"
   ]
  },
  {
   "cell_type": "code",
   "execution_count": 2,
   "metadata": {
    "collapsed": false
   },
   "outputs": [
    {
     "name": "stdout",
     "output_type": "stream",
     "text": [
      "[ 2 55 56 77  3 94 94  4 48 74] valores repetidos 1\n",
      "[ 2 51 19 76 99 50 22 48 40  2] valores repetidos 1\n",
      "[19 17 85 86 14  0 39 39 57 34] valores repetidos 1\n",
      "[35 28 39 18 39 16 30  2  2 60] valores repetidos 2\n",
      "[12 31 26 46 56  3 56 51 41 41] valores repetidos 2\n",
      "[94 94 41 59 28 44 11 59 93 37] valores repetidos 2\n",
      "[46  5  5 82 45 76 71 11 75 85] valores repetidos 1\n",
      "[26 80 59 31  1 59  6 10 67 67] valores repetidos 2\n",
      "[31 31 56 99 39 67 64  5 42 17] valores repetidos 1\n",
      "[67 29 72  0 50 50 89 99 95  3] valores repetidos 1\n",
      "[53 63 72 46 13 13 75 65 93 93] valores repetidos 2\n",
      "[21 21 58 82 54 45 21  3 57 52] valores repetidos 2\n",
      "[72 67 50 95 96 61 53 30 27 27] valores repetidos 1\n",
      "[15 88 88 57 31 90 57 72 60 36] valores repetidos 2\n",
      "[66 57 20 76 65 65 41 43 10 86] valores repetidos 1\n"
     ]
    }
   ],
   "source": [
    "r = init_population(15)\n",
    "for i in range(len(r)):\n",
    "    print r[i], \"valores repetidos\", 10-len(np.unique(r[i]))"
   ]
  },
  {
   "cell_type": "markdown",
   "metadata": {},
   "source": [
    "### 1.C) verifica que el ejercicio está correcto\n"
   ]
  },
  {
   "cell_type": "code",
   "execution_count": 3,
   "metadata": {
    "collapsed": false
   },
   "outputs": [
    {
     "name": "stdout",
     "output_type": "stream",
     "text": [
      "Todos los individuos tienen al menos 2 números iguales :: True\n"
     ]
    }
   ],
   "source": [
    "r = init_population(200)\n",
    "print \"Todos los individuos tienen al menos 2 números iguales ::\", np.all([len(np.unique(r[i]))<=9 for i in xrange(len(r))])"
   ]
  },
  {
   "cell_type": "markdown",
   "metadata": {},
   "source": [
    "# Ejercicio 2:\n",
    "\n",
    "### <font style=\"color:red\">1.A) Realiza una función que produzca una mutación en un vector de enteros:\n",
    "\n",
    "Tenemos un vector $x$ con 10 elementos que son números enteros entre 0 y 9. Es decir $x =  [x_0, x_1,...x_i, ... x_9]$ con $x_i \\in [0,..,9]$\n",
    "\n",
    "implementa una función que mute un vector con una probabilidad $p$ dada. Por ejemplo, si $p=0.7$ el 30% de las veces que se llama la función devuelve el mismo $x$ sin modificarlo pero el 70% devuelve el vector original mutado.\n",
    "\n",
    "para hacer una mutación:\n",
    "\n",
    "1. Selecciona una posición aleatoria en el vector\n",
    "2. Cambia el valor del elemento en la posición seleccionada\n",
    "\n",
    "Salida esperada (es aleatoria, tu salida no será igual):\n",
    "\n",
    "    x\n",
    "    [0 8 7 6 5 8 6 3 7 3]\n",
    "    mutations\n",
    "    [0 8 7 6 5 8 6 3 7 3]\n",
    "    [0 8 7 6 5 8 6 3 7 3]\n",
    "    [0 8 7 6 5 8 6 6 7 3]\n",
    "    [0 8 7 6 5 8 6 3 7 3]\n",
    "    [0 8 7 6 5 8 6 3 7 3]\n",
    "    [0 8 7 6 5 1 6 3 7 3]\n",
    "    [0 8 7 6 5 8 6 3 7 3]\n",
    "    [0 8 7 6 5 8 6 3 7 3]\n",
    "    [0 8 7 6 5 8 6 3 7 3]\n",
    "    [9 8 7 6 5 8 6 3 7 3]\n"
   ]
  },
  {
   "cell_type": "code",
   "execution_count": 4,
   "metadata": {
    "collapsed": false
   },
   "outputs": [],
   "source": [
    "import numpy as np\n",
    "\n",
    "def simple_mutate(x, prob):\n",
    "    \n",
    "    r = np.copy(x)\n",
    "\n",
    "    if  np.random.random() < prob:\n",
    "        h = np.random.randint(len(r))\n",
    "        r[h] = r [h+1] if h == 10 else r[0]\n",
    "    ## TU CODIGO AQUI\n",
    "           \n",
    "    return r\n",
    "    "
   ]
  },
  {
   "cell_type": "markdown",
   "metadata": {},
   "source": [
    "### 1.B) inspecciona el resultado de tu código"
   ]
  },
  {
   "cell_type": "code",
   "execution_count": 5,
   "metadata": {
    "collapsed": false
   },
   "outputs": [
    {
     "name": "stdout",
     "output_type": "stream",
     "text": [
      "x\n",
      "[5 3 3 9 8 3 0 8 7 5]\n",
      "mutations\n",
      "[5 3 3 9 8 3 0 8 7 5]\n",
      "[5 3 3 9 8 3 0 8 7 5]\n",
      "[5 3 3 9 8 3 0 8 7 5]\n",
      "[5 3 3 9 8 5 0 8 7 5]\n",
      "[5 3 3 9 8 3 0 8 7 5]\n",
      "[5 3 3 9 8 3 0 8 7 5]\n",
      "[5 3 3 9 8 3 0 8 7 5]\n",
      "[5 3 3 9 8 3 0 8 7 5]\n",
      "[5 3 3 9 8 3 0 8 7 5]\n",
      "[5 3 3 9 8 3 0 8 7 5]\n"
     ]
    }
   ],
   "source": [
    "x = np.random.randint(10, size=10)\n",
    "print \"x\\n\",x\n",
    "print \"mutations\"\n",
    "for i in range(10):\n",
    "    print simple_mutate(x, 0.1)"
   ]
  },
  {
   "cell_type": "markdown",
   "metadata": {},
   "source": [
    "### 1.C) verifica que el ejercicio está correcto"
   ]
  },
  {
   "cell_type": "code",
   "execution_count": 6,
   "metadata": {
    "collapsed": false
   },
   "outputs": [
    {
     "name": "stdout",
     "output_type": "stream",
     "text": [
      "Testing mutation probability 0.5 True\n",
      "Testing mutation probability 0.1 True\n",
      "Testing solutions valid          True\n",
      "Testing solutions valid          True\n"
     ]
    }
   ],
   "source": [
    "x = np.random.randint(10, size=100)\n",
    "N=1000\n",
    "pct_muts_50 = sum([sum(simple_mutate(x, 0.5) != x) for i in xrange(N)])*1./N\n",
    "pct_muts_10 = sum([sum(simple_mutate(x, 0.1) != x) for i in xrange(N)])*1./N\n",
    "print \"Testing mutation probability 0.5\", np.allclose(pct_muts_50, 0.5, atol=0.1)\n",
    "print \"Testing mutation probability 0.1\", np.allclose(pct_muts_10, 0.1, atol=0.1)\n",
    "print \"Testing solutions valid         \", np.all([np.all(simple_mutate(x, 0.5) < 10) for i in xrange(N)])\n",
    "print \"Testing solutions valid         \", np.all([np.all(simple_mutate(x, 0.5) >= 0) for i in xrange(N)])"
   ]
  },
  {
   "cell_type": "markdown",
   "metadata": {
    "collapsed": true
   },
   "source": [
    "# Ejercicio 3:\n",
    "\n",
    "### <font style=\"color:red\">1.A) Realiza una función que dados dos vectores $v_1$ y $v_2$, produzca un nuevo vector $r$ de forma que:\n",
    "\n",
    "- selecciona una posición aleatoria de $r$\n",
    "- `r[pos:] = v1[pos:]`, donde $pos$ es la posición seleccionada en el punto anterior\n",
    "- `r[:pos] = v2[:pos]`\n",
    "\n",
    "Salida esperada (vectores aleatorios):\n",
    "\n",
    "\n",
    "    v1 [85 55  9 24 71 80 94 26 36 24]\n",
    "    v2 [90  8 63 74 71 55 44 84 61 27]\n",
    "    r  [ 0 55  9 24 71 80 94 26 36 24]\n"
   ]
  },
  {
   "cell_type": "code",
   "execution_count": 7,
   "metadata": {
    "collapsed": true
   },
   "outputs": [],
   "source": [
    "def crossover(v1, v2):\n",
    "    \n",
    "    r = np.zeros(len(v1)).astype(int)\n",
    "    k = np.random.randint(len(r))\n",
    "    r[k:] = v1[k:]\n",
    "    r[:k] = v2[:k]\n",
    "    \n",
    "    ## TU CODIGO AQUI\n",
    "    return r\n",
    "    "
   ]
  },
  {
   "cell_type": "markdown",
   "metadata": {},
   "source": [
    "### 1.B) inspecciona el resultado de tu código"
   ]
  },
  {
   "cell_type": "code",
   "execution_count": 8,
   "metadata": {
    "collapsed": false
   },
   "outputs": [
    {
     "name": "stdout",
     "output_type": "stream",
     "text": [
      "v1 [14 27 21 44 23 77  2 92  8 51]\n",
      "v2 [34 22 71 75 68  0 83 98 33 85]\n",
      "r  [14 27 21 44 23 77  2 92  8 51]\n"
     ]
    }
   ],
   "source": [
    "v1 = np.random.randint(100, size=10)\n",
    "v2 = np.random.randint(100, size=10)\n",
    "r = crossover(v1,v2)\n",
    "print \"v1\", v1\n",
    "print \"v2\", v2\n",
    "print \"r \", r"
   ]
  },
  {
   "cell_type": "markdown",
   "metadata": {},
   "source": [
    "### 1.C) verifica que el ejercicio está correcto"
   ]
  },
  {
   "cell_type": "code",
   "execution_count": 9,
   "metadata": {
    "collapsed": false
   },
   "outputs": [
    {
     "name": "stdout",
     "output_type": "stream",
     "text": [
      "cross over correctos ::  True\n"
     ]
    }
   ],
   "source": [
    "c = []\n",
    "for i in range(100):\n",
    "    v1 = np.random.randint(100, size=10)\n",
    "    v2 = np.random.randint(100, size=10)\n",
    "    r = crossover(v1,v2)\n",
    "    tf = np.all(np.unique(list(np.where(v2==r)[0]) + list(np.where(v1==r)[0]))==np.arange(10))\n",
    "    if not tf:\n",
    "        print \"--\"\n",
    "        print \"v1\", v1\n",
    "        print \"v2\", v2\n",
    "        print \"r \", r\n",
    "        print \"l \", np.unique(list(np.where(v2==r)[0]) + list(np.where(v1==r)[0])), tf\n",
    "    c.append(tf)\n",
    "    \n",
    "print \"cross over correctos :: \", np.all(c)"
   ]
  },
  {
   "cell_type": "markdown",
   "metadata": {},
   "source": [
    "# Ejercicio 4:\n",
    "\n",
    "### <font style=\"color:red\">1.A) Realiza una función que dado un vector $x$, con 10 elementos enteros, entre 0 y 99 ambos incluidos, genere un nuevo vector $r$ de forma que la distancia euclideana entre ambos sea 2:\n",
    "\n",
    "- selecciona una posición aleatoria de $r$\n",
    "- `r[pos:] = v1[pos:]`, donde $pos$ es la posición seleccionada en el punto anterior\n",
    "- `r[:pos] = v2[:pos]`\n",
    "\n",
    "Salida esperada (vectores aleatorios):\n",
    "\n",
    "\n",
    "    v1 [85 55  9 24 71 80 94 26 36 24]\n",
    "    v2 [90  8 63 74 71 55 44 84 61 27]\n",
    "    r  [ 0 55  9 24 71 80 94 26 36 24]\n"
   ]
  },
  {
   "cell_type": "code",
   "execution_count": 10,
   "metadata": {
    "collapsed": false
   },
   "outputs": [],
   "source": [
    "import numpy as np\n",
    "\n",
    "def vecino(x):\n",
    "    \n",
    "    r = np.copy(x)\n",
    "    k = np.random.randint(len(r))\n",
    "    r[k]= r[k] -2\n",
    "    \n",
    "    ## TU CODIGO AQUI\n",
    "    return r"
   ]
  },
  {
   "cell_type": "markdown",
   "metadata": {},
   "source": [
    "### 1.B) inspecciona el resultado de tu código"
   ]
  },
  {
   "cell_type": "code",
   "execution_count": 11,
   "metadata": {
    "collapsed": false
   },
   "outputs": [
    {
     "name": "stdout",
     "output_type": "stream",
     "text": [
      "x [4 8 1 6 2 1 8 0 6 0]\n",
      "r [4 6 1 6 2 1 8 0 6 0]\n",
      "distnacia euclideana 2.0\n"
     ]
    }
   ],
   "source": [
    "x = np.random.randint(10, size=10)\n",
    "r = vecino(x)\n",
    "print \"x\", x\n",
    "print \"r\", r\n",
    "print \"distnacia euclideana\", np.sqrt(np.sum((x-r)**2))"
   ]
  },
  {
   "cell_type": "markdown",
   "metadata": {},
   "source": [
    "### 1.C) verifica que el ejercicio está correcto"
   ]
  },
  {
   "cell_type": "code",
   "execution_count": 12,
   "metadata": {
    "collapsed": false
   },
   "outputs": [
    {
     "name": "stdout",
     "output_type": "stream",
     "text": [
      "todas las distancias son 2 :: True\n"
     ]
    }
   ],
   "source": [
    "distancias = []\n",
    "for i in xrange(100):\n",
    "    x = np.random.randint(10, size=10)\n",
    "    r = vecino(x)\n",
    "    distancias.append(np.sqrt(np.sum((x-r)**2)))\n",
    "    \n",
    "print \"todas las distancias son 2 ::\", np.allclose(distancias, 2)"
   ]
  },
  {
   "cell_type": "code",
   "execution_count": null,
   "metadata": {
    "collapsed": true
   },
   "outputs": [],
   "source": []
  }
 ],
 "metadata": {
  "kernelspec": {
   "display_name": "Python 2",
   "language": "python",
   "name": "python2"
  },
  "language_info": {
   "codemirror_mode": {
    "name": "ipython",
    "version": 2
   },
   "file_extension": ".py",
   "mimetype": "text/x-python",
   "name": "python",
   "nbconvert_exporter": "python",
   "pygments_lexer": "ipython2",
   "version": "2.7.10"
  }
 },
 "nbformat": 4,
 "nbformat_minor": 0
}
